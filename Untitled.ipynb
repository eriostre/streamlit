{
 "cells": [
  {
   "cell_type": "code",
   "execution_count": 9,
   "id": "a19e9ff8-a2b9-4372-9f3e-545f8a8994ba",
   "metadata": {},
   "outputs": [
    {
     "data": {
      "text/html": [
       "\n",
       "        <iframe\n",
       "            width=\"100%\"\n",
       "            height=\"650\"\n",
       "            src=\"http://127.0.0.1:8053/\"\n",
       "            frameborder=\"0\"\n",
       "            allowfullscreen\n",
       "            \n",
       "        ></iframe>\n",
       "        "
      ],
      "text/plain": [
       "<IPython.lib.display.IFrame at 0x1d0ece99640>"
      ]
     },
     "metadata": {},
     "output_type": "display_data"
    }
   ],
   "source": [
    "import dash\n",
    "from dash import dcc, html\n",
    "from dash.dependencies import Input, Output\n",
    "import pandas as pd\n",
    "import plotly.express as px\n",
    "\n",
    "# Load the dataset\n",
    "df = pd.read_csv('irish_trade.csv')\n",
    "\n",
    "# Initialize the Dash app\n",
    "app = dash.Dash(__name__)\n",
    "\n",
    "# App layout\n",
    "app.layout = html.Div([\n",
    "    html.H1(\"Ireland Trade Dashboard\", style={'textAlign': 'center'}),\n",
    "    \n",
    "    # Filters\n",
    "    html.Div([\n",
    "        html.Label(\"Select Year:\"),\n",
    "        dcc.Dropdown(\n",
    "            id='year-dropdown',\n",
    "            options=[{'label': str(year), 'value': year} for year in df['year'].unique()],\n",
    "            value=df['year'].max(),\n",
    "            placeholder=\"Select a year\"\n",
    "        ),\n",
    "        html.Label(\"Select Trade Flow:\"),\n",
    "        dcc.Dropdown(\n",
    "            id='flow-dropdown',\n",
    "            options=[{'label': flow, 'value': flow} for flow in df['flow'].unique()],\n",
    "            value='Export',\n",
    "            placeholder=\"Select trade flow\"\n",
    "        ),\n",
    "        html.Label(\"Select Commodity Category:\"),\n",
    "        dcc.Dropdown(\n",
    "            id='category-dropdown',\n",
    "            options=[{'label': cat, 'value': cat} for cat in df['category'].unique()],\n",
    "            value=None,\n",
    "            placeholder=\"Select a category (optional)\"\n",
    "        ),\n",
    "    ], style={'width': '30%', 'display': 'inline-block', 'verticalAlign': 'top'}),\n",
    "    \n",
    "    # Graphs\n",
    "    html.Div([\n",
    "        dcc.Graph(id='bar-chart'),\n",
    "        dcc.Graph(id='line-chart'),\n",
    "        dcc.Graph(id='pie-chart'),\n",
    "    ], style={'width': '65%', 'display': 'inline-block'}),\n",
    "])\n",
    "\n",
    "# Callbacks for interactivity\n",
    "@app.callback(\n",
    "    [Output('bar-chart', 'figure'),\n",
    "     Output('line-chart', 'figure'),\n",
    "     Output('pie-chart', 'figure')],\n",
    "    [Input('year-dropdown', 'value'),\n",
    "     Input('flow-dropdown', 'value'),\n",
    "     Input('category-dropdown', 'value')]\n",
    ")\n",
    "def update_graphs(selected_year, selected_flow, selected_category):\n",
    "    # Filter data based on selections\n",
    "    filtered_df = df[(df['year'] == selected_year) & (df['flow'] == selected_flow)]\n",
    "    if selected_category:\n",
    "        filtered_df = filtered_df[filtered_df['category'] == selected_category]\n",
    "    \n",
    "    # Bar chart: Top commodities by trade_usd\n",
    "    bar_chart = px.bar(\n",
    "        filtered_df.nlargest(10, 'trade_usd'),\n",
    "        x='commodity',\n",
    "        y='trade_usd',\n",
    "        title=f\"Top 10 Commodities by Trade Value ({selected_flow}, {selected_year})\",\n",
    "        labels={'trade_usd': 'Trade Value (USD)', 'commodity': 'Commodity'},\n",
    "    )\n",
    "    \n",
    "    # Line chart: Trade trends over years\n",
    "    line_chart = px.line(\n",
    "        df[(df['flow'] == selected_flow) & (df['category'] == selected_category)] if selected_category else df[df['flow'] == selected_flow],\n",
    "        x='year',\n",
    "        y='trade_usd',\n",
    "        color='commodity',\n",
    "        title=f\"Trade Trends Over Years ({selected_flow})\",\n",
    "        labels={'trade_usd': 'Trade Value (USD)', 'year': 'Year'}\n",
    "    )\n",
    "    \n",
    "    # Pie chart: Trade distribution by weight_kg\n",
    "    pie_chart = px.pie(\n",
    "        filtered_df,\n",
    "        names='commodity',\n",
    "        values='weight_kg',\n",
    "        title=f\"Trade Distribution by Weight ({selected_flow}, {selected_year})\"\n",
    "    )\n",
    "    \n",
    "    return bar_chart, line_chart, pie_chart\n",
    "\n",
    "# Run the app\n",
    "if __name__ == '__main__':\n",
    "    app.run_server(debug=True, port=8053)\n",
    "fig = px.bar(x=[1, 2, 3], y=[4, 5, 6])\n",
    "fig.write_html(\"chart.html\")"
   ]
  },
  {
   "cell_type": "code",
   "execution_count": 5,
   "id": "5313fd67-5a3e-4898-aef0-df5ce5d7b237",
   "metadata": {},
   "outputs": [
    {
     "ename": "SyntaxError",
     "evalue": "invalid syntax (3012564980.py, line 1)",
     "output_type": "error",
     "traceback": [
      "\u001b[1;36m  Cell \u001b[1;32mIn[5], line 1\u001b[1;36m\u001b[0m\n\u001b[1;33m    streamlit run dashboard1.py\u001b[0m\n\u001b[1;37m              ^\u001b[0m\n\u001b[1;31mSyntaxError\u001b[0m\u001b[1;31m:\u001b[0m invalid syntax\n"
     ]
    }
   ],
   "source": [
    "streamlit run dashboard1.py"
   ]
  },
  {
   "cell_type": "code",
   "execution_count": null,
   "id": "e9115f86-1ad4-4a23-9492-537886145c36",
   "metadata": {},
   "outputs": [],
   "source": []
  }
 ],
 "metadata": {
  "kernelspec": {
   "display_name": "Python 3 (ipykernel)",
   "language": "python",
   "name": "python3"
  },
  "language_info": {
   "codemirror_mode": {
    "name": "ipython",
    "version": 3
   },
   "file_extension": ".py",
   "mimetype": "text/x-python",
   "name": "python",
   "nbconvert_exporter": "python",
   "pygments_lexer": "ipython3",
   "version": "3.12.3"
  }
 },
 "nbformat": 4,
 "nbformat_minor": 5
}
